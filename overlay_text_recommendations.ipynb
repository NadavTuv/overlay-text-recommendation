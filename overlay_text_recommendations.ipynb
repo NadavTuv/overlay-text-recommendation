{
  "nbformat": 4,
  "nbformat_minor": 0,
  "metadata": {
    "colab": {
      "provenance": [],
      "gpuType": "T4",
      "collapsed_sections": [
        "OMeUzJ2sfP3O",
        "1GVvSXA2_viV",
        "PklfpMnJA7Yp"
      ]
    },
    "kernelspec": {
      "name": "python3",
      "display_name": "Python 3"
    },
    "language_info": {
      "name": "python"
    },
    "accelerator": "GPU"
  },
  "cells": [
    {
      "cell_type": "markdown",
      "source": [
        "## Instance segmentation"
      ],
      "metadata": {
        "id": "z7gbuD4g9PRW"
      }
    },
    {
      "cell_type": "code",
      "execution_count": null,
      "metadata": {
        "id": "cmrkHJg0N4uk"
      },
      "outputs": [],
      "source": [
        "!pip3 install pycocotools pixellib"
      ]
    },
    {
      "cell_type": "code",
      "source": [
        "from matplotlib import pyplot as plt\n",
        "import numpy as np"
      ],
      "metadata": {
        "id": "xFfuYLOVkdhh"
      },
      "execution_count": null,
      "outputs": []
    },
    {
      "cell_type": "code",
      "source": [
        "  import pixellib\n",
        "  from pixellib.torchbackend.instance import instanceSegmentation"
      ],
      "metadata": {
        "id": "oUEr0nXgPC9u"
      },
      "execution_count": null,
      "outputs": []
    },
    {
      "cell_type": "code",
      "source": [
        "  ins = instanceSegmentation()\n",
        "  ins.load_model(\"/content/pointrend_resnet50.pkl\")\n"
      ],
      "metadata": {
        "id": "pXjDDVeYPOmH"
      },
      "execution_count": null,
      "outputs": []
    },
    {
      "cell_type": "code",
      "source": [
        "  segmask, output = ins.segmentImage(\"/content/sample2.jpg\", show_bboxes=True, output_image_name=\"/content/sample2_segmented.jpg\")"
      ],
      "metadata": {
        "id": "4fddxc6IhzPH"
      },
      "execution_count": null,
      "outputs": []
    },
    {
      "cell_type": "code",
      "source": [
        "# Read segmask example instead of running the whole model each time\n",
        "import pickle\n",
        "\n",
        "# Read dictionary pkl file\n",
        "with open('/content/segmask_example.pkl', 'rb') as fp:\n",
        "    segmask = pickle.load(fp)"
      ],
      "metadata": {
        "id": "f1rvrP5szjex"
      },
      "execution_count": null,
      "outputs": []
    },
    {
      "cell_type": "code",
      "source": [
        "def get_instance_area(segmask):\n",
        "  '''\n",
        "  Returns the area of all objects in the image\n",
        "  '''\n",
        "  instances = np.sum(segmask['masks'], axis = 2)\n",
        "  return instances"
      ],
      "metadata": {
        "id": "MKklG3K6h3nj"
      },
      "execution_count": null,
      "outputs": []
    },
    {
      "cell_type": "code",
      "source": [
        "def instance_sizes(segmask):\n",
        "  '''\n",
        "  Returns a list of all instances in the image and their sizes in pixels,\n",
        "  sorted by the instance size\n",
        "  '''\n",
        "  classes_with_sizes = []\n",
        "  class_names = segmask['class_names']\n",
        "  n_objects = len(class_names)\n",
        "  for i in range(n_objects):\n",
        "    object_name = class_names[i]\n",
        "    obect_size = segmask['masks'][:,:,i].sum()\n",
        "    classes_with_sizes.append((object_name, obect_size))\n",
        "  return classes_with_sizes\n"
      ],
      "metadata": {
        "id": "QUmQq_6_nq4a"
      },
      "execution_count": null,
      "outputs": []
    },
    {
      "cell_type": "code",
      "source": [
        "from numpy.core.fromnumeric import shape\n",
        "def create_straight_text_box(segmask, x_tl, y_tl, x_br, y_br):\n",
        "  '''\n",
        "  Retuns an image in the size of the given image with all values set to False\n",
        "  except for the borders of the text box that are given as input.\n",
        "  I created this function myself and it can only create straight angled boxes.\n",
        "  '''\n",
        "  image_shape = segmask['masks'].shape[:2]\n",
        "  if x_br > image_shape[1] or y_br > image_shape[0]:\n",
        "    print('Text box coordinates out of image range')\n",
        "    return False\n",
        "  text_box = np.zeros(shape = image_shape )\n",
        "  text_box[y_tl:y_br, x_tl]  = 1\n",
        "  text_box[y_br, x_tl:x_br] = 1\n",
        "  text_box[y_tl:y_br, x_br] = 1\n",
        "  text_box[y_tl, x_tl:x_br] = 1\n",
        "\n",
        "  return text_box.astype(dtype = bool)\n",
        "\n"
      ],
      "metadata": {
        "id": "zlNlnQ9u5r6g"
      },
      "execution_count": null,
      "outputs": []
    },
    {
      "cell_type": "code",
      "source": [
        "import numpy as np\n",
        "from skimage.draw import polygon\n",
        "import math\n",
        "\n",
        "def create_rotated_text_box(segmask, x_tl, y_tl, width, height, angle_deg):\n",
        "    # Convert angle from degrees to radians\n",
        "    angle_rad = math.radians(angle_deg)\n",
        "\n",
        "    # Rest of the code remains unchanged\n",
        "    image_shape = segmask['masks'].shape[:2]\n",
        "    if x_tl > image_shape[1] or y_tl > image_shape[0]:\n",
        "        print('Text box top-left corner coordinates out of image range')\n",
        "\n",
        "    # Calculate the four corners of the rectangle\n",
        "    box_corners = np.array([[x_tl, y_tl],\n",
        "                            [x_tl + width, y_tl],\n",
        "                            [x_tl + width, y_tl + height],\n",
        "                            [x_tl, y_tl + height]])\n",
        "\n",
        "    # Rotate the box corners around the center\n",
        "    rotation_matrix = np.array([[np.cos(angle_rad), -np.sin(angle_rad)],\n",
        "                                [np.sin(angle_rad), np.cos(angle_rad)]])\n",
        "    rotated_box_corners = np.dot(box_corners - [x_tl + width / 2, y_tl + height / 2], rotation_matrix.T) + [x_tl + width / 2, y_tl + height / 2]\n",
        "\n",
        "    # Create an empty mask\n",
        "    text_box = np.zeros(image_shape, dtype=bool)\n",
        "\n",
        "    # Fill the rotated box polygon with ones\n",
        "    rr, cc = polygon(rotated_box_corners[:, 1], rotated_box_corners[:, 0])\n",
        "    text_box[rr, cc] = 1\n",
        "\n",
        "    return text_box\n",
        "\n"
      ],
      "metadata": {
        "id": "HYRXuw11FPoJ"
      },
      "execution_count": null,
      "outputs": []
    },
    {
      "cell_type": "code",
      "source": [
        "def is_text_box_in_dead_area(instance_area, text_box):\n",
        "    return np.all(instance_area * text_box == 0)"
      ],
      "metadata": {
        "id": "Et3HPsW96LPe"
      },
      "execution_count": null,
      "outputs": []
    },
    {
      "cell_type": "code",
      "source": [
        "def text_box_location_candidates(segmask, width, height, angle_deg):\n",
        "    instance_area = get_instance_area(segmask)\n",
        "    image_shape = segmask['masks'].shape[:2]\n",
        "    candidates = np.zeros(shape=image_shape, dtype=bool)\n",
        "    for x in range(image_shape[1] - width ):\n",
        "        for y in range(image_shape[0] - height ):\n",
        "            text_box = create_rotated_text_box(segmask, x, y, width, height, angle_deg)\n",
        "            candidates[y, x] = is_text_box_in_dead_area(instance_area, text_box)\n",
        "    return candidates\n"
      ],
      "metadata": {
        "id": "AjBZgHHoj-5_"
      },
      "execution_count": null,
      "outputs": []
    },
    {
      "cell_type": "code",
      "source": [
        "def bounding_box_intersection(bb1, bb2):\n",
        "    # Function to check if two bounding boxes intersect\n",
        "    x1, y1, w1, h1 = bb1\n",
        "    x2, y2, w2, h2 = bb2\n",
        "    return not (x1 + w1 < x2 or x2 + w2 < x1 or y1 + h1 < y2 or y2 + h2 < y1)\n"
      ],
      "metadata": {
        "id": "1hfOCNEh6QqE"
      },
      "execution_count": null,
      "outputs": []
    },
    {
      "cell_type": "code",
      "source": [
        "from scipy.signal import convolve2d\n",
        "from scipy.ndimage import binary_erosion, binary_dilation\n",
        "\n",
        "\n",
        "def gpt_text_box_location_candidates(segmask, width, height, angle_deg):\n",
        "    image_shape = segmask['masks'].shape[:2]\n",
        "    boxes = segmask['boxes']\n",
        "    candidates = np.zeros(shape=image_shape, dtype=bool)\n",
        "    instance_area = get_instance_area(segmask)\n",
        "\n",
        "    for y in range(image_shape[0] - height - 1):\n",
        "        for x in range(image_shape[1] - width - 1):\n",
        "            if not np.any(candidates[y:y+height, x:x+width]):\n",
        "                text_box = create_rotated_text_box(segmask, x, y, width, height, angle_deg)\n",
        "                intersect = False\n",
        "                for box in boxes:\n",
        "                    y_min, x_min, y_max, x_max = box\n",
        "                    if (x <= x_min < x + width or x <= x_max < x + width) and (y <= y_min < y + height or y <= y_max < y + height):\n",
        "                        intersect = True\n",
        "                        break\n",
        "                if not intersect:\n",
        "                    candidates[y, x] = is_text_box_in_dead_area(instance_area, text_box)\n",
        "\n",
        "    return candidates"
      ],
      "metadata": {
        "id": "QjeUmiVYzqC_"
      },
      "execution_count": null,
      "outputs": []
    },
    {
      "cell_type": "markdown",
      "source": [
        "## Text region detection"
      ],
      "metadata": {
        "id": "OMeUzJ2sfP3O"
      }
    },
    {
      "cell_type": "code",
      "source": [
        "!pip3 install pytesseract"
      ],
      "metadata": {
        "colab": {
          "base_uri": "https://localhost:8080/"
        },
        "id": "DyU9LhBwiXHE",
        "outputId": "cd1e24e9-c16a-4935-e78e-c4060d41108a"
      },
      "execution_count": null,
      "outputs": [
        {
          "output_type": "stream",
          "name": "stdout",
          "text": [
            "Collecting pytesseract\n",
            "  Downloading pytesseract-0.3.10-py3-none-any.whl (14 kB)\n",
            "Requirement already satisfied: packaging>=21.3 in /usr/local/lib/python3.10/dist-packages (from pytesseract) (23.1)\n",
            "Requirement already satisfied: Pillow>=8.0.0 in /usr/local/lib/python3.10/dist-packages (from pytesseract) (8.4.0)\n",
            "Installing collected packages: pytesseract\n",
            "Successfully installed pytesseract-0.3.10\n"
          ]
        }
      ]
    },
    {
      "cell_type": "code",
      "source": [
        "import cv2\n",
        "import numpy as np\n",
        "import pytesseract\n",
        "from google.colab.patches import cv2_imshow\n",
        "\n",
        "pytesseract.pytesseract.tesseract_cmd = r\"C:\\Program Files\\Tesseract-OCR\\tesseract.exe\"\n",
        "\n",
        "# Load image, convert to HSV format, define lower/upper ranges, and perform\n",
        "# color segmentation to create a binary mask\n",
        "image = cv2.imread('1.jpg')\n",
        "hsv = cv2.cvtColor(image, cv2.COLOR_BGR2HSV)\n",
        "lower = np.array([0, 0, 218])\n",
        "upper = np.array([157, 54, 255])\n",
        "mask = cv2.inRange(hsv, lower, upper)\n",
        "\n",
        "# Create horizontal kernel and dilate to connect text characters\n",
        "kernel = cv2.getStructuringElement(cv2.MORPH_RECT, (5,3))\n",
        "dilate = cv2.dilate(mask, kernel, iterations=5)\n",
        "\n",
        "# Find contours and filter using aspect ratio\n",
        "# Remove non-text contours by filling in the contour\n",
        "cnts = cv2.findContours(dilate, cv2.RETR_EXTERNAL, cv2.CHAIN_APPROX_SIMPLE)\n",
        "cnts = cnts[0] if len(cnts) == 2 else cnts[1]\n",
        "for c in cnts:\n",
        "    x,y,w,h = cv2.boundingRect(c)\n",
        "    ar = w / float(h)\n",
        "    if ar < 5:\n",
        "        cv2.drawContours(dilate, [c], -1, (0,0,0), -1)\n",
        "\n",
        "# Bitwise dilated image with mask, invert, then OCR\n",
        "result = 255 - cv2.bitwise_and(dilate, mask)\n",
        "data = pytesseract.image_to_string(result, lang='eng',config='--psm 6')\n",
        "print(data)\n",
        "\n",
        "cv2_imshow( mask)\n",
        "cv2_imshow( dilate)\n",
        "cv2_imshow( result)\n",
        "cv2.waitKey()"
      ],
      "metadata": {
        "colab": {
          "base_uri": "https://localhost:8080/",
          "height": 253
        },
        "id": "-Vl1kwVcid5h",
        "outputId": "511955c4-3de1-4bb0-999e-3c3b84645616"
      },
      "execution_count": null,
      "outputs": [
        {
          "output_type": "error",
          "ename": "error",
          "evalue": "ignored",
          "traceback": [
            "\u001b[0;31m---------------------------------------------------------------------------\u001b[0m",
            "\u001b[0;31merror\u001b[0m                                     Traceback (most recent call last)",
            "\u001b[0;32m<ipython-input-64-c150cb83bbd8>\u001b[0m in \u001b[0;36m<cell line: 11>\u001b[0;34m()\u001b[0m\n\u001b[1;32m      9\u001b[0m \u001b[0;31m# color segmentation to create a binary mask\u001b[0m\u001b[0;34m\u001b[0m\u001b[0;34m\u001b[0m\u001b[0m\n\u001b[1;32m     10\u001b[0m \u001b[0mimage\u001b[0m \u001b[0;34m=\u001b[0m \u001b[0mcv2\u001b[0m\u001b[0;34m.\u001b[0m\u001b[0mimread\u001b[0m\u001b[0;34m(\u001b[0m\u001b[0;34m'1.jpg'\u001b[0m\u001b[0;34m)\u001b[0m\u001b[0;34m\u001b[0m\u001b[0;34m\u001b[0m\u001b[0m\n\u001b[0;32m---> 11\u001b[0;31m \u001b[0mhsv\u001b[0m \u001b[0;34m=\u001b[0m \u001b[0mcv2\u001b[0m\u001b[0;34m.\u001b[0m\u001b[0mcvtColor\u001b[0m\u001b[0;34m(\u001b[0m\u001b[0mimage\u001b[0m\u001b[0;34m,\u001b[0m \u001b[0mcv2\u001b[0m\u001b[0;34m.\u001b[0m\u001b[0mCOLOR_BGR2HSV\u001b[0m\u001b[0;34m)\u001b[0m\u001b[0;34m\u001b[0m\u001b[0;34m\u001b[0m\u001b[0m\n\u001b[0m\u001b[1;32m     12\u001b[0m \u001b[0mlower\u001b[0m \u001b[0;34m=\u001b[0m \u001b[0mnp\u001b[0m\u001b[0;34m.\u001b[0m\u001b[0marray\u001b[0m\u001b[0;34m(\u001b[0m\u001b[0;34m[\u001b[0m\u001b[0;36m0\u001b[0m\u001b[0;34m,\u001b[0m \u001b[0;36m0\u001b[0m\u001b[0;34m,\u001b[0m \u001b[0;36m218\u001b[0m\u001b[0;34m]\u001b[0m\u001b[0;34m)\u001b[0m\u001b[0;34m\u001b[0m\u001b[0;34m\u001b[0m\u001b[0m\n\u001b[1;32m     13\u001b[0m \u001b[0mupper\u001b[0m \u001b[0;34m=\u001b[0m \u001b[0mnp\u001b[0m\u001b[0;34m.\u001b[0m\u001b[0marray\u001b[0m\u001b[0;34m(\u001b[0m\u001b[0;34m[\u001b[0m\u001b[0;36m157\u001b[0m\u001b[0;34m,\u001b[0m \u001b[0;36m54\u001b[0m\u001b[0;34m,\u001b[0m \u001b[0;36m255\u001b[0m\u001b[0;34m]\u001b[0m\u001b[0;34m)\u001b[0m\u001b[0;34m\u001b[0m\u001b[0;34m\u001b[0m\u001b[0m\n",
            "\u001b[0;31merror\u001b[0m: OpenCV(4.7.0) /io/opencv/modules/imgproc/src/color.cpp:182: error: (-215:Assertion failed) !_src.empty() in function 'cvtColor'\n"
          ]
        }
      ]
    },
    {
      "cell_type": "markdown",
      "source": [
        "## ChatGPT suggestions\n"
      ],
      "metadata": {
        "id": "1GVvSXA2_viV"
      }
    },
    {
      "cell_type": "code",
      "source": [
        "!pip3 install openai"
      ],
      "metadata": {
        "id": "NMcJ9CotjIrq"
      },
      "execution_count": null,
      "outputs": []
    },
    {
      "cell_type": "code",
      "source": [
        "import openai\n",
        "openai.api_key = open('/content/chatgpt_api_key.txt').read().strip('\\n')"
      ],
      "metadata": {
        "id": "mop7cYFj_3sQ"
      },
      "execution_count": null,
      "outputs": []
    },
    {
      "cell_type": "code",
      "source": [
        "\n",
        "def get_raw_suggestions(segmask):\n",
        "    instance_list = instance_sizes(segmask)\n",
        "    message = f'here is a list of objects extracted from an image using\\\n",
        "     instance segmentation. The number next to each object represents the size\\\n",
        "      of the object in pixels: {instance_list}.\\nI want a few suggestions for\\\n",
        "       captions and hashtags for an Instagram post and overlay text for a story.\\\n",
        "        Give me your result as a python list of tuples\\\n",
        "         (caption, hashtags, overlay text). I want only the list and no \\\n",
        "         other text so that I can easily process the response in python.\\\n",
        "         Limit the response to 5 suggestions'\n",
        "\n",
        "    completion = openai.ChatCompletion.create(\n",
        "        model='gpt-3.5-turbo',\n",
        "        messages=[\n",
        "            {'role': 'system', 'content': message}\n",
        "        ]\n",
        "    )\n",
        "\n",
        "    suggestions = completion\n",
        "    return suggestions\n",
        "\n",
        "def get_suggestions(segmask):\n",
        "  raw_suggestions = get_raw_suggestions(segmask)\n",
        "  suggestions = eval(raw_suggestions['choices'][0]['message']['content'])\n",
        "  return(suggestions)"
      ],
      "metadata": {
        "id": "NWVykNUfjfgY"
      },
      "execution_count": null,
      "outputs": []
    },
    {
      "cell_type": "code",
      "source": [
        "d = get_suggestions(segmask)"
      ],
      "metadata": {
        "id": "W6IVAUYbOSxA"
      },
      "execution_count": null,
      "outputs": []
    },
    {
      "cell_type": "code",
      "source": [
        "print(d)"
      ],
      "metadata": {
        "colab": {
          "base_uri": "https://localhost:8080/"
        },
        "id": "yXPH088EZXrE",
        "outputId": "8af57578-9332-425a-ff8d-1be44696176b"
      },
      "execution_count": null,
      "outputs": [
        {
          "output_type": "stream",
          "name": "stdout",
          "text": [
            "[('Enjoying a day out with friends! 🌞 #outdooradventures #friends', '#instadaily #instagood #fun', 'Having a blast'), ('City vibes! 🏙️ #urbanlife #cityscape', '#city #explore #architecture', 'Exploring the city'), ('Cruising through traffic in style! 🚗 #carride #streetlife', '#drive #cars #city', 'On the move'), ('Biking through scenic routes! 🚴 #cyclinglife #naturelovers', '#bikelife #adventure', 'Pedaling through nature'), ('Exploring the urban jungle! 🌃 #cityadventures #nightlife', '#explore #citylights', 'Nighttime exploration')]\n"
          ]
        }
      ]
    },
    {
      "cell_type": "markdown",
      "source": [
        "## Render text on image"
      ],
      "metadata": {
        "id": "m0WKXoODC4-0"
      }
    },
    {
      "cell_type": "code",
      "source": [
        "from PIL import Image, ImageDraw, ImageFont"
      ],
      "metadata": {
        "id": "aXyL3OjVC8hn"
      },
      "execution_count": null,
      "outputs": []
    },
    {
      "cell_type": "code",
      "source": [
        "image = Image.open(\"/content/sample2.jpg\")\n",
        "draw = ImageDraw.Draw(image)\n",
        "font = ImageFont.truetype(\"/content/High Speed.ttf\",36)\n",
        "text = \"Urban Life\"\n",
        "draw.text((500, 150), text, (0,0,0), font = font)\n",
        "image.save(\"text.png\")"
      ],
      "metadata": {
        "id": "hjBqM-qBFTcN"
      },
      "execution_count": null,
      "outputs": []
    },
    {
      "cell_type": "markdown",
      "source": [
        "## color analysis"
      ],
      "metadata": {
        "id": "PklfpMnJA7Yp"
      }
    },
    {
      "cell_type": "code",
      "source": [
        "!pip3 install easydev colormap opencv-python colorgram.py extcolors"
      ],
      "metadata": {
        "colab": {
          "base_uri": "https://localhost:8080/"
        },
        "id": "A2rF4ppKA6NS",
        "outputId": "a79d0e74-d893-4a52-fe03-f04c13561815"
      },
      "execution_count": null,
      "outputs": [
        {
          "output_type": "stream",
          "name": "stdout",
          "text": [
            "Collecting easydev\n",
            "  Downloading easydev-0.12.1.tar.gz (55 kB)\n",
            "\u001b[?25l     \u001b[90m━━━━━━━━━━━━━━━━━━━━━━━━━━━━━━━━━━━━━━━━\u001b[0m \u001b[32m0.0/55.7 kB\u001b[0m \u001b[31m?\u001b[0m eta \u001b[36m-:--:--\u001b[0m\r\u001b[2K     \u001b[90m━━━━━━━━━━━━━━━━━━━━━━━━━━━━━━━━━━━━━━━━\u001b[0m \u001b[32m55.7/55.7 kB\u001b[0m \u001b[31m4.9 MB/s\u001b[0m eta \u001b[36m0:00:00\u001b[0m\n",
            "\u001b[?25h  Preparing metadata (setup.py) ... \u001b[?25l\u001b[?25hdone\n",
            "Collecting colormap\n",
            "  Downloading colormap-1.0.4.tar.gz (17 kB)\n",
            "  Preparing metadata (setup.py) ... \u001b[?25l\u001b[?25hdone\n",
            "Requirement already satisfied: opencv-python in /usr/local/lib/python3.10/dist-packages (4.7.0.72)\n",
            "Collecting colorgram.py\n",
            "  Downloading colorgram.py-1.2.0-py2.py3-none-any.whl (6.2 kB)\n",
            "Collecting extcolors\n",
            "  Downloading extcolors-1.0.0-py3-none-any.whl (9.8 kB)\n",
            "Collecting colorama (from easydev)\n",
            "  Downloading colorama-0.4.6-py2.py3-none-any.whl (25 kB)\n",
            "Requirement already satisfied: pexpect in /usr/local/lib/python3.10/dist-packages (from easydev) (4.8.0)\n",
            "Collecting colorlog (from easydev)\n",
            "  Downloading colorlog-6.7.0-py2.py3-none-any.whl (11 kB)\n",
            "Requirement already satisfied: numpy>=1.21.2 in /usr/local/lib/python3.10/dist-packages (from opencv-python) (1.22.4)\n",
            "Requirement already satisfied: pillow>=3.3.1 in /usr/local/lib/python3.10/dist-packages (from colorgram.py) (8.4.0)\n",
            "Collecting convcolors>=1.0.0 (from extcolors)\n",
            "  Downloading convcolors-2.2.0-py3-none-any.whl (3.8 kB)\n",
            "Requirement already satisfied: ptyprocess>=0.5 in /usr/local/lib/python3.10/dist-packages (from pexpect->easydev) (0.7.0)\n",
            "Building wheels for collected packages: easydev, colormap\n",
            "  Building wheel for easydev (setup.py) ... \u001b[?25l\u001b[?25hdone\n",
            "  Created wheel for easydev: filename=easydev-0.12.1-py3-none-any.whl size=64214 sha256=d4ccf1b6b3775b56bd6180af2af4343f9930fc474ea50fef9d7f6acf23fd388c\n",
            "  Stored in directory: /root/.cache/pip/wheels/c5/a3/df/e8e19f6f1674c2b0574ccc1a156292b599709eaa4feeea0fcf\n",
            "  Building wheel for colormap (setup.py) ... \u001b[?25l\u001b[?25hdone\n",
            "  Created wheel for colormap: filename=colormap-1.0.4-py3-none-any.whl size=15630 sha256=a663918f315613b984aee152f2ab52ebe880a0a741c3b7091d8c17ccf2813d1e\n",
            "  Stored in directory: /root/.cache/pip/wheels/bb/25/18/6b007d77ac1220e0530efa2af14569bb803d77f140366fb313\n",
            "Successfully built easydev colormap\n",
            "Installing collected packages: colormap, convcolors, colorlog, colorgram.py, colorama, extcolors, easydev\n",
            "Successfully installed colorama-0.4.6 colorgram.py-1.2.0 colorlog-6.7.0 colormap-1.0.4 convcolors-2.2.0 easydev-0.12.1 extcolors-1.0.0\n"
          ]
        }
      ]
    },
    {
      "cell_type": "code",
      "source": [
        "import cv2\n",
        "import extcolors\n",
        "from colormap import rgb2hex"
      ],
      "metadata": {
        "id": "_PyRPIgnLyPh"
      },
      "execution_count": null,
      "outputs": []
    },
    {
      "cell_type": "code",
      "source": [],
      "metadata": {
        "id": "g4vPfqOLMRXw"
      },
      "execution_count": null,
      "outputs": []
    }
  ]
}